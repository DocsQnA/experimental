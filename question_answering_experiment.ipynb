{
 "metadata": {
  "language_info": {
   "codemirror_mode": {
    "name": "ipython",
    "version": 3
   },
   "file_extension": ".py",
   "mimetype": "text/x-python",
   "name": "python",
   "nbconvert_exporter": "python",
   "pygments_lexer": "ipython3",
   "version": "3.6.9"
  },
  "orig_nbformat": 2,
  "kernelspec": {
   "name": "python369jvsc74a57bd04cd7ab41f5fca4b9b44701077e38c5ffd31fe66a6cab21e0214b68d958d0e462",
   "display_name": "Python 3.6.9 64-bit"
  },
  "metadata": {
   "interpreter": {
    "hash": "4cd7ab41f5fca4b9b44701077e38c5ffd31fe66a6cab21e0214b68d958d0e462"
   }
  }
 },
 "nbformat": 4,
 "nbformat_minor": 2,
 "cells": [
  {
   "cell_type": "code",
   "execution_count": 1,
   "metadata": {},
   "outputs": [],
   "source": [
    "from transformers import pipeline"
   ]
  },
  {
   "source": [
    "First try it out with the example from the documentation."
   ],
   "cell_type": "markdown",
   "metadata": {}
  },
  {
   "cell_type": "code",
   "execution_count": 2,
   "metadata": {},
   "outputs": [
    {
     "output_type": "display_data",
     "data": {
      "text/plain": "Downloading:   0%|          | 0.00/473 [00:00<?, ?B/s]",
      "application/vnd.jupyter.widget-view+json": {
       "version_major": 2,
       "version_minor": 0,
       "model_id": "7fb8cd4990ca4ab29ac90c1f2f42461c"
      }
     },
     "metadata": {}
    },
    {
     "output_type": "display_data",
     "data": {
      "text/plain": "Downloading:   0%|          | 0.00/261M [00:00<?, ?B/s]",
      "application/vnd.jupyter.widget-view+json": {
       "version_major": 2,
       "version_minor": 0,
       "model_id": "9048404ede564cf4b8e51e607d9ee99c"
      }
     },
     "metadata": {}
    },
    {
     "output_type": "display_data",
     "data": {
      "text/plain": "Downloading:   0%|          | 0.00/213k [00:00<?, ?B/s]",
      "application/vnd.jupyter.widget-view+json": {
       "version_major": 2,
       "version_minor": 0,
       "model_id": "938d363bcb804d5cbc95a69fbf93c7cc"
      }
     },
     "metadata": {}
    },
    {
     "output_type": "display_data",
     "data": {
      "text/plain": "Downloading:   0%|          | 0.00/436k [00:00<?, ?B/s]",
      "application/vnd.jupyter.widget-view+json": {
       "version_major": 2,
       "version_minor": 0,
       "model_id": "9049c22c0aac401785dcb597cadd5f20"
      }
     },
     "metadata": {}
    },
    {
     "output_type": "display_data",
     "data": {
      "text/plain": "Downloading:   0%|          | 0.00/29.0 [00:00<?, ?B/s]",
      "application/vnd.jupyter.widget-view+json": {
       "version_major": 2,
       "version_minor": 0,
       "model_id": "8b48084a1c5344968bc45d4000466073"
      }
     },
     "metadata": {}
    }
   ],
   "source": [
    "nlp = pipeline(\"question-answering\")"
   ]
  },
  {
   "cell_type": "code",
   "execution_count": 3,
   "metadata": {},
   "outputs": [],
   "source": [
    "context = r\"\"\"\n",
    "Extractive Question Answering is the task of extracting an answer from a text given a question. An example of a\n",
    "question answering dataset is the SQuAD dataset, which is entirely based on that task. If you would like to fine-tune\n",
    "a model on a SQuAD task, you may leverage the examples/pytorch/question-answering/run_squad.py script.\n",
    "\"\"\""
   ]
  },
  {
   "cell_type": "code",
   "execution_count": 4,
   "metadata": {},
   "outputs": [
    {
     "output_type": "stream",
     "name": "stdout",
     "text": [
      "Answer: 'the task of extracting an answer from a text given a question', score: 0.6177, start: 34, end: 95\n"
     ]
    }
   ],
   "source": [
    "result = nlp(question=\"What is extractive question answering?\", context=context)\n",
    "print(f\"Answer: '{result['answer']}', score: {round(result['score'], 4)}, start: {result['start']}, end: {result['end']}\")"
   ]
  },
  {
   "cell_type": "code",
   "execution_count": 5,
   "metadata": {},
   "outputs": [
    {
     "output_type": "stream",
     "name": "stdout",
     "text": [
      "Answer: 'SQuAD dataset', score: 0.5152, start: 147, end: 160\n"
     ]
    }
   ],
   "source": [
    "result = nlp(question=\"What is a good example of a question answering dataset?\", context=context)\n",
    "print(f\"Answer: '{result['answer']}', score: {round(result['score'], 4)}, start: {result['start']}, end: {result['end']}\")"
   ]
  },
  {
   "source": [
    "Check how well does it perform with Markdown"
   ],
   "cell_type": "markdown",
   "metadata": {}
  },
  {
   "cell_type": "code",
   "execution_count": 6,
   "metadata": {},
   "outputs": [],
   "source": [
    "markdown_context = r\"\"\"\n",
    "# Getting started with _fastlane_ for Android\n",
    "\n",
    "## Installing _fastlane_\n",
    "\n",
    "{!docs/includes/installing-fastlane.md!}\n",
    "\n",
    "## Setting up _fastlane_\n",
    "\n",
    "Navigate your terminal to your project's directory and run\n",
    "\n",
    "```no-highlight\n",
    "fastlane init\n",
    "```\n",
    "\n",
    "You'll be asked to confirm that you're ready to begin, and then for a few pieces of information. To get started quickly:\n",
    "\n",
    "1. Provide the package name for your application when asked (e.g. io.fabric.yourapp)\n",
    "1. Press enter when asked for the path to your json secret file\n",
    "1. Answer 'n' when asked if you plan on uploading info to Google Play via fastlane (we can set this up later)\n",
    "\n",
    "That's it! _fastlane_ will automatically generate a configuration for you based on the information provided.\n",
    "\n",
    "You can see the newly created `./fastlane` directory, with the following files:\n",
    "\n",
    "- `Appfile` which defines configuration information that is global to your app\n",
    "- `Fastfile` which defines the \"lanes\" that drive the behavior of _fastlane_\n",
    "\n",
    "<img src=\"/img/getting-started/android/fastlane-init.png\" width=\"996\" />\n",
    "\n",
    "The most interesting file is `fastlane/Fastfile`, which contains all the information that is needed to distribute your app.\n",
    "\n",
    "## Setting up _supply_\n",
    "\n",
    "_supply_ is a _fastlane_ tool that uploads app metadata, screenshots and binaries to Google Play. You can also select tracks for builds and promote builds to production!\n",
    "\n",
    "For _supply_ to be able to initialize, you need to have successfully uploaded an APK to your app in the Google Play Console at least once.\n",
    "\n",
    "Setting it up requires downloading a credentials file from your Google Developers Service Account.\n",
    "\n",
    "### Collect your Google credentials\n",
    "\n",
    "{!docs/includes/google-credentials.md!}\n",
    "\n",
    "### Configure _supply_\n",
    "\n",
    "Edit your `fastlane/Appfile` and change the `json_key_file` line to have the path to your credentials file:\n",
    "\n",
    "```ruby\n",
    "json_key_file \"/path/to/your/downloaded/key.json\"\n",
    "```\n",
    "\n",
    "### Fetch your app metadata\n",
    "\n",
    "If your app has been created on the Google Play developer console, you're ready to start using _supply_ to manage it! Run:\n",
    "\n",
    "```no-highlight\n",
    "fastlane supply init\n",
    "```\n",
    "\n",
    "and all of your current Google Play store metadata will be downloaded to `fastlane/metadata/android`.\n",
    "\n",
    "<img src=\"/img/getting-started/android/supply-init.png\" width=\"1071\" />\n",
    "\n",
    "Due to limitations of the Google Play API, _supply_ can't download existing screenshots or videos.\n",
    "\n",
    "## What's next?\n",
    "\n",
    "_fastlane_ is ready to generate screenshots and automatically distribute new builds! To learn more, check out:\n",
    "\n",
    "- [_fastlane_ screenshots for Android](screenshots.md)\n",
    "- [Deploy to Google Play using _fastlane_](release-deployment.md)\n",
    "\n",
    "### Set up environment variables\n",
    "\n",
    "_fastlane_ requires some environment variables set up to run correctly. In particular, having your locale not set to a UTF-8 locale will cause issues with building and uploading your build. In your shell profile add the following lines:\n",
    "\n",
    "```sh\n",
    "export LC_ALL=en_US.UTF-8\n",
    "export LANG=en_US.UTF-8\n",
    "```\n",
    "\n",
    "You can find your shell profile at `~/.bashrc`, `~/.bash_profile`, `~/.profile` or `~/.zshrc` depending on your system.\n",
    "\n",
    "### Use a Gemfile\n",
    "\n",
    "It is recommended that you use a `Gemfile` to define your dependency on _fastlane_. This will clearly define the used _fastlane_ version, and its dependencies, and will also speed up using _fastlane_.\n",
    "\n",
    "- Create a `./Gemfile` in the root directory of your project with the content\n",
    "```ruby\n",
    "source \"https://rubygems.org\"\n",
    "\n",
    "gem \"fastlane\"\n",
    "```\n",
    "- Run `[sudo] bundle update` and add both the `./Gemfile` and the `./Gemfile.lock` to version control\n",
    "- Every time you run _fastlane_, use `bundle exec fastlane [lane]`\n",
    "- On your CI, add `[sudo] bundle install` as your first build step\n",
    "- To update _fastlane_, just run `[sudo] bundle update fastlane`\n",
    "\"\"\""
   ]
  },
  {
   "cell_type": "code",
   "execution_count": 7,
   "metadata": {},
   "outputs": [
    {
     "output_type": "stream",
     "name": "stdout",
     "text": [
      "Answer: 'change the `json_key_file` line', score: 0.0474, start: 1736, end: 1767\n"
     ]
    }
   ],
   "source": [
    "result = nlp(question=\"How to configure supply?\", context=markdown_context)\n",
    "print(f\"Answer: '{result['answer']}', score: {round(result['score'], 4)}, start: {result['start']}, end: {result['end']}\")"
   ]
  },
  {
   "cell_type": "code",
   "execution_count": 8,
   "metadata": {},
   "outputs": [
    {
     "output_type": "stream",
     "name": "stdout",
     "text": [
      "Answer: 'downloading a credentials file from your Google Developers Service Account', score: 0.009, start: 1524, end: 1598\n"
     ]
    }
   ],
   "source": [
    "result = nlp(question=\"How to use gem file?\", context=markdown_context)\n",
    "print(f\"Answer: '{result['answer']}', score: {round(result['score'], 4)}, start: {result['start']}, end: {result['end']}\")"
   ]
  },
  {
   "cell_type": "code",
   "execution_count": null,
   "metadata": {},
   "outputs": [],
   "source": []
  }
 ]
}