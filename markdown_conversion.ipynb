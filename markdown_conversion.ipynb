{
 "metadata": {
  "language_info": {
   "codemirror_mode": {
    "name": "ipython",
    "version": 3
   },
   "file_extension": ".py",
   "mimetype": "text/x-python",
   "name": "python",
   "nbconvert_exporter": "python",
   "pygments_lexer": "ipython3",
   "version": "3.6.9"
  },
  "orig_nbformat": 4,
  "kernelspec": {
   "name": "python3",
   "display_name": "Python 3.6.9 64-bit ('local')"
  },
  "interpreter": {
   "hash": "4cd7ab41f5fca4b9b44701077e38c5ffd31fe66a6cab21e0214b68d958d0e462"
  }
 },
 "nbformat": 4,
 "nbformat_minor": 2,
 "cells": [
  {
   "cell_type": "code",
   "execution_count": 37,
   "metadata": {},
   "outputs": [],
   "source": [
    "from bs4 import BeautifulSoup\n",
    "from markdown import markdown"
   ]
  },
  {
   "cell_type": "code",
   "execution_count": 38,
   "metadata": {},
   "outputs": [],
   "source": [
    "def markdown_to_plain_text(content: str) -> str:\n",
    "    html_content = markdown(content)\n",
    "    plain_text = ''.join(BeautifulSoup(html_content).find_all(text=True))\n",
    "    return plain_text"
   ]
  },
  {
   "cell_type": "code",
   "execution_count": 39,
   "metadata": {},
   "outputs": [
    {
     "output_type": "stream",
     "name": "stdout",
     "text": [
      "Read sample markdown file with content: \n# Experimental\n\nA location for experimental notebooks for early stage DocsQnA projects.\n\n## Getting started\n\n```bash\npip install -r requirements.txt\n```\n\n## Limitation\n\nFor the sake of convenience, all the notebooks in the repository have to share the same development environment and dependencies.\n...\n"
     ]
    }
   ],
   "source": [
    "sample_markdown_content = \"\"\n",
    "with open(\"README.md\", \"r\") as sample_markdown_file:\n",
    "    sample_markdown_content = sample_markdown_file.read()\n",
    "print(f\"Read sample markdown file with content: \\n{sample_markdown_content}...\")"
   ]
  },
  {
   "cell_type": "code",
   "execution_count": 40,
   "metadata": {},
   "outputs": [
    {
     "output_type": "stream",
     "name": "stdout",
     "text": [
      "Converted content: \nExperimental\nA location for experimental notebooks for early stage DocsQnA projects.\nGetting started\nbash\npip install -r requirements.txt\nLimitation\nFor the sake of convenience, all the notebooks in the repository have to share the same development environment and dependencies....\n"
     ]
    }
   ],
   "source": [
    "plain_text_content = markdown_to_plain_text(sample_markdown_content)\n",
    "print(f\"Converted content: \\n{plain_text_content}...\")"
   ]
  },
  {
   "cell_type": "code",
   "execution_count": null,
   "metadata": {},
   "outputs": [],
   "source": []
  }
 ]
}